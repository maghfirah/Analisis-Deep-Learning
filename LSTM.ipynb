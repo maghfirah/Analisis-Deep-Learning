{
 "cells": [
  {
   "cell_type": "markdown",
   "metadata": {},
   "source": [
    "#### Nama : \n",
    "1.  Nurdi Afrianto     (18917218)\n",
    "2.  Maghfirah Suyuti   (18917213)\n"
   ]
  },
  {
   "cell_type": "markdown",
   "metadata": {},
   "source": [
    "# Analisis Long short-term memory (LSTM) Time Series (HPQ stock)"
   ]
  },
  {
   "cell_type": "code",
   "execution_count": 1,
   "metadata": {},
   "outputs": [
    {
     "name": "stdout",
     "output_type": "stream",
     "text": [
      "Requirement already satisfied: pandas_datareader in c:\\users\\nurdi\\anaconda3\\lib\\site-packages (0.8.1)\n",
      "Requirement already satisfied: pandas>=0.21 in c:\\users\\nurdi\\anaconda3\\lib\\site-packages (from pandas_datareader) (0.24.2)\n",
      "Requirement already satisfied: requests>=2.3.0 in c:\\users\\nurdi\\anaconda3\\lib\\site-packages (from pandas_datareader) (2.23.0)\n",
      "Requirement already satisfied: lxml in c:\\users\\nurdi\\anaconda3\\lib\\site-packages (from pandas_datareader) (4.3.2)\n",
      "Requirement already satisfied: pytz>=2011k in c:\\users\\nurdi\\anaconda3\\lib\\site-packages (from pandas>=0.21->pandas_datareader) (2018.9)\n",
      "Requirement already satisfied: numpy>=1.12.0 in c:\\users\\nurdi\\anaconda3\\lib\\site-packages (from pandas>=0.21->pandas_datareader) (1.16.2)\n",
      "Requirement already satisfied: python-dateutil>=2.5.0 in c:\\users\\nurdi\\anaconda3\\lib\\site-packages (from pandas>=0.21->pandas_datareader) (2.8.0)\n",
      "Requirement already satisfied: certifi>=2017.4.17 in c:\\users\\nurdi\\anaconda3\\lib\\site-packages (from requests>=2.3.0->pandas_datareader) (2019.11.28)\n",
      "Requirement already satisfied: urllib3!=1.25.0,!=1.25.1,<1.26,>=1.21.1 in c:\\users\\nurdi\\anaconda3\\lib\\site-packages (from requests>=2.3.0->pandas_datareader) (1.25.8)\n",
      "Requirement already satisfied: idna<3,>=2.5 in c:\\users\\nurdi\\anaconda3\\lib\\site-packages (from requests>=2.3.0->pandas_datareader) (2.9)\n",
      "Requirement already satisfied: chardet<4,>=3.0.2 in c:\\users\\nurdi\\anaconda3\\lib\\site-packages (from requests>=2.3.0->pandas_datareader) (3.0.4)\n",
      "Requirement already satisfied: six>=1.5 in c:\\users\\nurdi\\anaconda3\\lib\\site-packages (from python-dateutil>=2.5.0->pandas>=0.21->pandas_datareader) (1.14.0)\n",
      "Note: you may need to restart the kernel to use updated packages.\n"
     ]
    }
   ],
   "source": [
    "pip install pandas_datareader"
   ]
  },
  {
   "cell_type": "code",
   "execution_count": 2,
   "metadata": {},
   "outputs": [
    {
     "name": "stdout",
     "output_type": "stream",
     "text": [
      "Requirement already satisfied: tensorflow==1.15 in c:\\users\\nurdi\\anaconda3\\lib\\site-packages (1.15.0)\n",
      "Requirement already satisfied: astor>=0.6.0 in c:\\users\\nurdi\\anaconda3\\lib\\site-packages (from tensorflow==1.15) (0.8.1)\n",
      "Requirement already satisfied: tensorflow-estimator==1.15.1 in c:\\users\\nurdi\\anaconda3\\lib\\site-packages (from tensorflow==1.15) (1.15.1)\n",
      "Requirement already satisfied: grpcio>=1.8.6 in c:\\users\\nurdi\\anaconda3\\lib\\site-packages (from tensorflow==1.15) (1.27.2)\n",
      "Requirement already satisfied: google-pasta>=0.1.6 in c:\\users\\nurdi\\anaconda3\\lib\\site-packages (from tensorflow==1.15) (0.2.0)\n",
      "Requirement already satisfied: gast==0.2.2 in c:\\users\\nurdi\\anaconda3\\lib\\site-packages (from tensorflow==1.15) (0.2.2)\n",
      "Requirement already satisfied: opt-einsum>=2.3.2 in c:\\users\\nurdi\\anaconda3\\lib\\site-packages (from tensorflow==1.15) (3.2.0)\n",
      "Requirement already satisfied: numpy<2.0,>=1.16.0 in c:\\users\\nurdi\\anaconda3\\lib\\site-packages (from tensorflow==1.15) (1.16.2)\n",
      "Requirement already satisfied: wrapt>=1.11.1 in c:\\users\\nurdi\\anaconda3\\lib\\site-packages (from tensorflow==1.15) (1.11.1)\n",
      "Requirement already satisfied: wheel>=0.26 in c:\\users\\nurdi\\anaconda3\\lib\\site-packages (from tensorflow==1.15) (0.34.2)\n",
      "Requirement already satisfied: keras-preprocessing>=1.0.5 in c:\\users\\nurdi\\anaconda3\\lib\\site-packages (from tensorflow==1.15) (1.1.0)\n",
      "Requirement already satisfied: termcolor>=1.1.0 in c:\\users\\nurdi\\anaconda3\\lib\\site-packages (from tensorflow==1.15) (1.1.0)\n",
      "Requirement already satisfied: tensorboard<1.16.0,>=1.15.0 in c:\\users\\nurdi\\anaconda3\\lib\\site-packages (from tensorflow==1.15) (1.15.0)\n",
      "Requirement already satisfied: keras-applications>=1.0.8 in c:\\users\\nurdi\\anaconda3\\lib\\site-packages (from tensorflow==1.15) (1.0.8)\n",
      "Requirement already satisfied: six>=1.10.0 in c:\\users\\nurdi\\anaconda3\\lib\\site-packages (from tensorflow==1.15) (1.14.0)\n",
      "Requirement already satisfied: absl-py>=0.7.0 in c:\\users\\nurdi\\anaconda3\\lib\\site-packages (from tensorflow==1.15) (0.9.0)\n",
      "Requirement already satisfied: protobuf>=3.6.1 in c:\\users\\nurdi\\anaconda3\\lib\\site-packages (from tensorflow==1.15) (3.11.3)\n",
      "Requirement already satisfied: werkzeug>=0.11.15 in c:\\users\\nurdi\\anaconda3\\lib\\site-packages (from tensorboard<1.16.0,>=1.15.0->tensorflow==1.15) (0.14.1)\n",
      "Requirement already satisfied: markdown>=2.6.8 in c:\\users\\nurdi\\anaconda3\\lib\\site-packages (from tensorboard<1.16.0,>=1.15.0->tensorflow==1.15) (3.2.1)\n",
      "Requirement already satisfied: setuptools>=41.0.0 in c:\\users\\nurdi\\anaconda3\\lib\\site-packages (from tensorboard<1.16.0,>=1.15.0->tensorflow==1.15) (46.0.0.post20200309)\n",
      "Requirement already satisfied: h5py in c:\\users\\nurdi\\anaconda3\\lib\\site-packages (from keras-applications>=1.0.8->tensorflow==1.15) (2.9.0)\n",
      "Note: you may need to restart the kernel to use updated packages.\n"
     ]
    }
   ],
   "source": [
    "pip install tensorflow==1.15"
   ]
  },
  {
   "cell_type": "code",
   "execution_count": 3,
   "metadata": {},
   "outputs": [],
   "source": [
    "#import library# \n",
    "from pandas_datareader import data\n",
    "import matplotlib.pyplot as plt\n",
    "import pandas as pd\n",
    "import datetime as dt\n",
    "import urllib.request, json\n",
    "import os\n",
    "import numpy as np\n",
    "import tensorflow as tf \n",
    "from sklearn.preprocessing import MinMaxScaler"
   ]
  },
  {
   "cell_type": "markdown",
   "metadata": {},
   "source": [
    "## 1. Eksplorasi Data "
   ]
  },
  {
   "cell_type": "code",
   "execution_count": 26,
   "metadata": {},
   "outputs": [
    {
     "name": "stdout",
     "output_type": "stream",
     "text": [
      "12075\n"
     ]
    },
    {
     "data": {
      "text/html": [
       "<div>\n",
       "<style scoped>\n",
       "    .dataframe tbody tr th:only-of-type {\n",
       "        vertical-align: middle;\n",
       "    }\n",
       "\n",
       "    .dataframe tbody tr th {\n",
       "        vertical-align: top;\n",
       "    }\n",
       "\n",
       "    .dataframe thead th {\n",
       "        text-align: right;\n",
       "    }\n",
       "</style>\n",
       "<table border=\"1\" class=\"dataframe\">\n",
       "  <thead>\n",
       "    <tr style=\"text-align: right;\">\n",
       "      <th></th>\n",
       "      <th>Date</th>\n",
       "      <th>Open</th>\n",
       "      <th>High</th>\n",
       "      <th>Low</th>\n",
       "      <th>Close</th>\n",
       "    </tr>\n",
       "  </thead>\n",
       "  <tbody>\n",
       "    <tr>\n",
       "      <th>0</th>\n",
       "      <td>1970-01-02</td>\n",
       "      <td>0.30627</td>\n",
       "      <td>0.30627</td>\n",
       "      <td>0.30627</td>\n",
       "      <td>0.30627</td>\n",
       "    </tr>\n",
       "    <tr>\n",
       "      <th>1</th>\n",
       "      <td>1970-01-05</td>\n",
       "      <td>0.30627</td>\n",
       "      <td>0.31768</td>\n",
       "      <td>0.30627</td>\n",
       "      <td>0.31385</td>\n",
       "    </tr>\n",
       "    <tr>\n",
       "      <th>2</th>\n",
       "      <td>1970-01-06</td>\n",
       "      <td>0.31385</td>\n",
       "      <td>0.31385</td>\n",
       "      <td>0.30996</td>\n",
       "      <td>0.30996</td>\n",
       "    </tr>\n",
       "    <tr>\n",
       "      <th>3</th>\n",
       "      <td>1970-01-07</td>\n",
       "      <td>0.31385</td>\n",
       "      <td>0.31385</td>\n",
       "      <td>0.31385</td>\n",
       "      <td>0.31385</td>\n",
       "    </tr>\n",
       "    <tr>\n",
       "      <th>4</th>\n",
       "      <td>1970-01-08</td>\n",
       "      <td>0.31385</td>\n",
       "      <td>0.31768</td>\n",
       "      <td>0.31385</td>\n",
       "      <td>0.31385</td>\n",
       "    </tr>\n",
       "  </tbody>\n",
       "</table>\n",
       "</div>"
      ],
      "text/plain": [
       "         Date     Open     High      Low    Close\n",
       "0  1970-01-02  0.30627  0.30627  0.30627  0.30627\n",
       "1  1970-01-05  0.30627  0.31768  0.30627  0.31385\n",
       "2  1970-01-06  0.31385  0.31385  0.30996  0.30996\n",
       "3  1970-01-07  0.31385  0.31385  0.31385  0.31385\n",
       "4  1970-01-08  0.31385  0.31768  0.31385  0.31385"
      ]
     },
     "execution_count": 26,
     "metadata": {},
     "output_type": "execute_result"
    }
   ],
   "source": [
    "#eksplorasi data\n",
    "df = pd.read_csv(os.path.join('hp.txt'),delimiter=',',usecols=['Date','Open','High','Low','Close']) \n",
    "#df=pd.read_csv('AAL.csv')\n",
    "df = df.sort_values('Date')\n",
    "#melihat panjang data\n",
    "print(len(df))\n",
    "#menampilkan dalam dataframe\n",
    "df.head()"
   ]
  },
  {
   "cell_type": "markdown",
   "metadata": {},
   "source": [
    "## 2. Visualisasi Data "
   ]
  },
  {
   "cell_type": "code",
   "execution_count": 27,
   "metadata": {},
   "outputs": [
    {
     "data": {
      "image/png": "[encoded data removed]",
      "text/plain": [
       "<Figure size 1296x648 with 1 Axes>"
      ]
     },
     "metadata": {
      "needs_background": "light"
     },
     "output_type": "display_data"
    }
   ],
   "source": [
    "# Visualisasi data\n",
    "plt.figure(figsize = (18,9))\n",
    "plt.plot(range(df.shape[0]),(df['Low']+df['High'])/2.0)\n",
    "plt.xticks(range(0,df.shape[0],500),df['Date'].loc[::500],rotation=45)\n",
    "plt.xlabel('Date', fontsize=18)\n",
    "plt.ylabel('Mid Price',fontsize=18)\n",
    "plt.show()"
   ]
  },
  {
   "cell_type": "markdown",
   "metadata": {},
   "source": [
    "## 3. Membagi data menjadi Training dan Testing "
   ]
  },
  {
   "cell_type": "code",
   "execution_count": 28,
   "metadata": {},
   "outputs": [
    {
     "name": "stderr",
     "output_type": "stream",
     "text": [
      "C:\\Users\\Nurdi\\Anaconda3\\lib\\site-packages\\ipykernel_launcher.py:3: FutureWarning: Method .as_matrix will be removed in a future version. Use .values instead.\n",
      "  This is separate from the ipykernel package so we can avoid doing imports until\n",
      "C:\\Users\\Nurdi\\Anaconda3\\lib\\site-packages\\ipykernel_launcher.py:4: FutureWarning: Method .as_matrix will be removed in a future version. Use .values instead.\n",
      "  after removing the cwd from sys.path.\n"
     ]
    }
   ],
   "source": [
    "#membagi data menjadi data training dan data testing\n",
    "#Data saham yang digunakan adalah harga tertinggi dan harga terebdah\n",
    "high_prices = df.loc[:,'High'].as_matrix()\n",
    "low_prices = df.loc[:,'Low'].as_matrix()\n",
    "mid_prices = (high_prices+low_prices)/2.0"
   ]
  },
  {
   "cell_type": "code",
   "execution_count": 29,
   "metadata": {},
   "outputs": [
    {
     "name": "stdout",
     "output_type": "stream",
     "text": [
      "[ 0.30627   0.311975  0.311905 ... 10.9015   10.826    10.7075  ]\n",
      "[10.7975 10.84   10.789  ... 21.355  21.275  21.225 ]\n"
     ]
    }
   ],
   "source": [
    "#membagi data menjadi 11000 data training dan 11000 data testing.\n",
    "train_data = mid_prices[:11000] \n",
    "#11000 untuk data testing\n",
    "test_data = mid_prices[11000:]\n",
    "print(train_data)\n",
    "print(test_data)"
   ]
  },
  {
   "cell_type": "markdown",
   "metadata": {},
   "source": [
    "## 5.Normalisasi Data\n",
    "### menghilangkan dan mengurangi redudansi data dan  memastikan dependensi data."
   ]
  },
  {
   "cell_type": "code",
   "execution_count": 30,
   "metadata": {},
   "outputs": [],
   "source": [
    "# MinMaxScalar skala data berada pada 0 dan 1 kemudian membentuk kembali data pelatihan dan pengujian.\n",
    "#MinMaxscaler digunakan untuk normalisasi data\n",
    "scaler = MinMaxScaler()\n",
    "#Data training dengan range -1 sampai 1 begitu juga Data testing\n",
    "train_data = train_data.reshape(-1,1)\n",
    "test_data = test_data.reshape(-1,1)"
   ]
  },
  {
   "cell_type": "code",
   "execution_count": 31,
   "metadata": {},
   "outputs": [],
   "source": [
    "# Normalisasi data\n",
    "# Train Scaler dengan data latih dan smooth data\n",
    "smoothing_window_size = 2500\n",
    "for di in range(0,10000,smoothing_window_size):\n",
    "    scaler.fit(train_data[di:di+smoothing_window_size,:])\n",
    "    train_data[di:di+smoothing_window_size,:] = scaler.transform(train_data[di:di+smoothing_window_size,:])\n",
    "\n",
    "# menormalisasi kembali\n",
    "scaler.fit(train_data[di+smoothing_window_size:,:])\n",
    "train_data[di+smoothing_window_size:,:] = scaler.transform(train_data[di+smoothing_window_size:,:])"
   ]
  },
  {
   "cell_type": "code",
   "execution_count": 32,
   "metadata": {},
   "outputs": [],
   "source": [
    "#membentuk kembali data trining dan testing\n",
    "train_data = train_data.reshape(-1)\n",
    "\n",
    "test_data = scaler.transform(test_data).reshape(-1)"
   ]
  },
  {
   "cell_type": "code",
   "execution_count": 33,
   "metadata": {},
   "outputs": [],
   "source": [
    "# Now perform exponential moving average smoothing\n",
    "# So the data will have a smoother curve than the original ragged data\n",
    "EMA = 0.0\n",
    "gamma = 0.1\n",
    "for ti in range(11000):\n",
    "  EMA = gamma*train_data[ti] + (1-gamma)*EMA\n",
    "  train_data[ti] = EMA\n",
    "\n",
    "# Used for visualization and test purposes\n",
    "all_mid_data = np.concatenate([train_data,test_data],axis=0)"
   ]
  },
  {
   "cell_type": "markdown",
   "metadata": {},
   "source": [
    "## 6. Data Generator "
   ]
  },
  {
   "cell_type": "code",
   "execution_count": 34,
   "metadata": {},
   "outputs": [
    {
     "name": "stdout",
     "output_type": "stream",
     "text": [
      "\n",
      "\n",
      "Unrolled index 0\n",
      "\tInputs:  [0.03143791 0.6904868  0.82829314 0.32585657 0.11600105]\n",
      "\n",
      "\tOutput: [0.06067836 0.6848606  0.8329321  0.33355275 0.11785509]\n",
      "\n",
      "\n",
      "Unrolled index 1\n",
      "\tInputs:  [0.06067836 0.6890754  0.8325337  0.32857886 0.11785509]\n",
      "\n",
      "\tOutput: [0.15261841 0.6836884  0.8329321  0.33355275 0.12192084]\n",
      "\n",
      "\n",
      "Unrolled index 2\n",
      "\tInputs:  [0.08698314 0.68685144 0.8329321  0.33078218 0.11946969]\n",
      "\n",
      "\tOutput: [0.132895   0.6858036  0.83387965 0.33650374 0.12158521]\n",
      "\n",
      "\n",
      "Unrolled index 3\n",
      "\tInputs:  [0.11098009 0.6858036  0.83294916 0.33219692 0.12106793]\n",
      "\n",
      "\tOutput: [0.1887914  0.6848606  0.83387965 0.3404623  0.12192084]\n",
      "\n",
      "\n",
      "Unrolled index 4\n",
      "\tInputs:  [0.132895   0.6848606  0.833369   0.33355275 0.12158521]\n",
      "\n",
      "\tOutput: [0.15261841 0.6820074  0.83387965 0.3404623  0.12358698]\n"
     ]
    }
   ],
   "source": [
    "class DataGeneratorSeq(object):\n",
    "\n",
    "    def __init__(self,prices,batch_size,num_unroll):\n",
    "        self._prices = prices\n",
    "        self._prices_length = len(self._prices) - num_unroll\n",
    "        self._batch_size = batch_size\n",
    "        self._num_unroll = num_unroll\n",
    "        self._segments = self._prices_length //self._batch_size\n",
    "        self._cursor = [offset * self._segments for offset in range(self._batch_size)]\n",
    "\n",
    "    def next_batch(self):\n",
    "\n",
    "        batch_data = np.zeros((self._batch_size),dtype=np.float32)\n",
    "        batch_labels = np.zeros((self._batch_size),dtype=np.float32)\n",
    "\n",
    "        for b in range(self._batch_size):\n",
    "            if self._cursor[b]+1>=self._prices_length:\n",
    "                self._cursor[b] = np.random.randint(0,(b+1)*self._segments)\n",
    "\n",
    "            batch_data[b] = self._prices[self._cursor[b]]\n",
    "            batch_labels[b]= self._prices[self._cursor[b]+np.random.randint(0,5)]\n",
    "\n",
    "            self._cursor[b] = (self._cursor[b]+1)%self._prices_length\n",
    "\n",
    "        return batch_data,batch_labels\n",
    "\n",
    "    def unroll_batches(self):\n",
    "\n",
    "        unroll_data,unroll_labels = [],[]\n",
    "        init_data, init_label = None,None\n",
    "        for ui in range(self._num_unroll):\n",
    "\n",
    "            data, labels = self.next_batch()    \n",
    "\n",
    "            unroll_data.append(data)\n",
    "            unroll_labels.append(labels)\n",
    "\n",
    "        return unroll_data, unroll_labels\n",
    "\n",
    "    def reset_indices(self):\n",
    "        for b in range(self._batch_size):\n",
    "            self._cursor[b] = np.random.randint(0,min((b+1)*self._segments,self._prices_length-1))\n",
    "\n",
    "\n",
    "\n",
    "dg = DataGeneratorSeq(train_data,5,5)\n",
    "u_data, u_labels = dg.unroll_batches()\n",
    "\n",
    "for ui,(dat,lbl) in enumerate(zip(u_data,u_labels)):   \n",
    "    print('\\n\\nUnrolled index %d'%ui)\n",
    "    dat_ind = dat\n",
    "    lbl_ind = lbl\n",
    "    print('\\tInputs: ',dat )\n",
    "    print('\\n\\tOutput:',lbl)"
   ]
  },
  {
   "cell_type": "markdown",
   "metadata": {},
   "source": [
    "## 7. mendefinisikan hyperparameter "
   ]
  },
  {
   "cell_type": "code",
   "execution_count": 35,
   "metadata": {
    "scrolled": true
   },
   "outputs": [],
   "source": [
    "D = 1 # Dimensi Data\n",
    "num_unrollings = 50 #feture\n",
    "batch_size = 500 # jumlah sample \n",
    "num_nodes = [200,200,150] # jumlah hidden (node) yang digunakan untuk LSTM. hidden pertama 200 node, hidden 2 200 node dan hidden 3 150 node\n",
    "n_layers = len(num_nodes) # layar yang digunakan adalah 3\n",
    "dropout = 0.2\n",
    "\n",
    "tf.reset_default_graph() "
   ]
  },
  {
   "cell_type": "markdown",
   "metadata": {},
   "source": [
    "## 8. Definisi input dan Output "
   ]
  },
  {
   "cell_type": "code",
   "execution_count": 36,
   "metadata": {},
   "outputs": [],
   "source": [
    "# input data\n",
    "train_inputs, train_outputs = [],[]\n",
    "\n",
    "for ui in range(num_unrollings):\n",
    "    train_inputs.append(tf.placeholder(tf.float32, shape=[batch_size,D],name='train_inputs_%d'%ui))\n",
    "    train_outputs.append(tf.placeholder(tf.float32, shape=[batch_size,1], name = 'train_outputs_%d'%ui))"
   ]
  },
  {
   "cell_type": "markdown",
   "metadata": {},
   "source": [
    "\n",
    "## 8.  Definisi parameter LSTM "
   ]
  },
  {
   "cell_type": "code",
   "execution_count": 37,
   "metadata": {},
   "outputs": [],
   "source": [
    "lstm_cells = [\n",
    "    tf.contrib.rnn.LSTMCell(num_units=num_nodes[li],\n",
    "                            state_is_tuple=True,\n",
    "                            initializer= tf.contrib.layers.xavier_initializer()\n",
    "                           )\n",
    " for li in range(n_layers)]\n",
    "\n",
    "drop_lstm_cells = [tf.contrib.rnn.DropoutWrapper(\n",
    "    lstm, input_keep_prob=1.0,output_keep_prob=1.0-dropout, state_keep_prob=1.0-dropout\n",
    ") for lstm in lstm_cells]\n",
    "drop_multi_cell = tf.contrib.rnn.MultiRNNCell(drop_lstm_cells)\n",
    "multi_cell = tf.contrib.rnn.MultiRNNCell(lstm_cells)\n",
    "\n",
    "w = tf.get_variable('w',shape=[num_nodes[-1], 1], initializer=tf.contrib.layers.xavier_initializer())\n",
    "b = tf.get_variable('b',initializer=tf.random_uniform([1],-0.1,0.1))"
   ]
  },
  {
   "cell_type": "markdown",
   "metadata": {},
   "source": [
    "## 9. Menghitung  LSTM   "
   ]
  },
  {
   "cell_type": "code",
   "execution_count": 38,
   "metadata": {},
   "outputs": [],
   "source": [
    "# Mebuat neuron pada hidden state dalam LSTM\n",
    "c, h = [],[]\n",
    "initial_state = []\n",
    "for li in range(n_layers):\n",
    "  c.append(tf.Variable(tf.zeros([batch_size, num_nodes[li]]), trainable=False))\n",
    "  h.append(tf.Variable(tf.zeros([batch_size, num_nodes[li]]), trainable=False))\n",
    "  initial_state.append(tf.contrib.rnn.LSTMStateTuple(c[li], h[li]))\n",
    "\n",
    "all_inputs = tf.concat([tf.expand_dims(t,0) for t in train_inputs],axis=0)\n",
    "\n",
    "all_lstm_outputs, state = tf.nn.dynamic_rnn(\n",
    "    drop_multi_cell, all_inputs, initial_state=tuple(initial_state),\n",
    "    time_major = True, dtype=tf.float32)\n",
    "\n",
    "all_lstm_outputs = tf.reshape(all_lstm_outputs, [batch_size*num_unrollings,num_nodes[-1]])\n",
    "\n",
    "all_outputs = tf.nn.xw_plus_b(all_lstm_outputs,w,b)\n",
    "\n",
    "split_outputs = tf.split(all_outputs,num_unrollings,axis=0)"
   ]
  },
  {
   "cell_type": "markdown",
   "metadata": {},
   "source": [
    "## 10. Loss Calculation and Optimizer "
   ]
  },
  {
   "cell_type": "code",
   "execution_count": 39,
   "metadata": {},
   "outputs": [
    {
     "name": "stdout",
     "output_type": "stream",
     "text": [
      "Defining training Loss\n",
      "Learning rate decay operations\n",
      "TF Optimization operations\n",
      "\tAll done\n"
     ]
    }
   ],
   "source": [
    "print('Defining training Loss')\n",
    "loss = 0.0\n",
    "with tf.control_dependencies([tf.assign(c[li], state[li][0]) for li in range(n_layers)]+\n",
    "                             [tf.assign(h[li], state[li][1]) for li in range(n_layers)]):\n",
    "  for ui in range(num_unrollings):\n",
    "    loss += tf.reduce_mean(0.5*(split_outputs[ui]-train_outputs[ui])**2)\n",
    "\n",
    "print('Learning rate decay operations')\n",
    "global_step = tf.Variable(0, trainable=False)\n",
    "inc_gstep = tf.assign(global_step,global_step + 1)\n",
    "tf_learning_rate = tf.placeholder(shape=None,dtype=tf.float32)\n",
    "tf_min_learning_rate = tf.placeholder(shape=None,dtype=tf.float32)\n",
    "\n",
    "learning_rate = tf.maximum(\n",
    "    tf.train.exponential_decay(tf_learning_rate, global_step, decay_steps=1, decay_rate=0.5, staircase=True),\n",
    "    tf_min_learning_rate)\n",
    "\n",
    "# Optimasisasi\n",
    "print('TF Optimization operations')\n",
    "optimizer = tf.train.AdamOptimizer(learning_rate)\n",
    "gradients, v = zip(*optimizer.compute_gradients(loss))\n",
    "gradients, _ = tf.clip_by_global_norm(gradients, 5.0)\n",
    "optimizer = optimizer.apply_gradients(\n",
    "    zip(gradients, v))\n",
    "\n",
    "print('\\tAll done')"
   ]
  },
  {
   "cell_type": "markdown",
   "metadata": {},
   "source": [
    "## 11. Perhitungan Prediksi "
   ]
  },
  {
   "cell_type": "code",
   "execution_count": 40,
   "metadata": {},
   "outputs": [
    {
     "name": "stdout",
     "output_type": "stream",
     "text": [
      "\tAll done\n"
     ]
    }
   ],
   "source": [
    "sample_inputs = tf.placeholder(tf.float32, shape=[1,D])\n",
    "sample_c, sample_h, initial_sample_state = [],[],[]\n",
    "for li in range(n_layers):\n",
    "  sample_c.append(tf.Variable(tf.zeros([1, num_nodes[li]]), trainable=False))\n",
    "  sample_h.append(tf.Variable(tf.zeros([1, num_nodes[li]]), trainable=False))\n",
    "  initial_sample_state.append(tf.contrib.rnn.LSTMStateTuple(sample_c[li],sample_h[li]))\n",
    "\n",
    "reset_sample_states = tf.group(*[tf.assign(sample_c[li],tf.zeros([1, num_nodes[li]])) for li in range(n_layers)],\n",
    "                               *[tf.assign(sample_h[li],tf.zeros([1, num_nodes[li]])) for li in range(n_layers)])\n",
    "\n",
    "sample_outputs, sample_state = tf.nn.dynamic_rnn(multi_cell, tf.expand_dims(sample_inputs,0),\n",
    "                                   initial_state=tuple(initial_sample_state),\n",
    "                                   time_major = True,\n",
    "                                   dtype=tf.float32)\n",
    "\n",
    "with tf.control_dependencies([tf.assign(sample_c[li],sample_state[li][0]) for li in range(n_layers)]+\n",
    "                              [tf.assign(sample_h[li],sample_state[li][1]) for li in range(n_layers)]):  \n",
    "  sample_prediction = tf.nn.xw_plus_b(tf.reshape(sample_outputs,[1,-1]), w, b)\n",
    "\n",
    "print('\\tAll done')"
   ]
  },
  {
   "cell_type": "markdown",
   "metadata": {},
   "source": [
    "## 12.  LSTM "
   ]
  },
  {
   "cell_type": "code",
   "execution_count": 41,
   "metadata": {},
   "outputs": [
    {
     "name": "stderr",
     "output_type": "stream",
     "text": [
      "C:\\Users\\Nurdi\\Anaconda3\\lib\\site-packages\\tensorflow_core\\python\\client\\session.py:1750: UserWarning: An interactive session is already active. This can cause out-of-memory errors in some cases. You must explicitly call `InteractiveSession.close()` to release resources held by the other session(s).\n",
      "  warnings.warn('An interactive session is already active. This can '\n"
     ]
    },
    {
     "name": "stdout",
     "output_type": "stream",
     "text": [
      "inisialisasi\n",
      "Average loss at step 1: 1.900416\n",
      "\tTest MSE: 0.03461\n",
      "\tFinished Predictions\n",
      "Average loss at step 2: 0.186652\n",
      "\tTest MSE: 0.00718\n",
      "\tFinished Predictions\n",
      "Average loss at step 3: 0.079344\n",
      "\tTest MSE: 0.00319\n",
      "\tFinished Predictions\n",
      "Average loss at step 4: 0.064382\n",
      "\tTest MSE: 0.00286\n",
      "\tFinished Predictions\n",
      "Average loss at step 5: 0.057946\n",
      "\tTest MSE: 0.00287\n",
      "\tFinished Predictions\n",
      "Average loss at step 6: 0.051412\n",
      "\tTest MSE: 0.00276\n",
      "\tFinished Predictions\n",
      "Average loss at step 7: 0.050645\n",
      "\tTest MSE: 0.00264\n",
      "\tFinished Predictions\n",
      "Average loss at step 8: 0.046581\n",
      "\tTest MSE: 0.00238\n",
      "\tFinished Predictions\n",
      "Average loss at step 9: 0.046015\n",
      "\tTest MSE: 0.00232\n",
      "\tFinished Predictions\n",
      "Average loss at step 10: 0.043336\n",
      "\tTest MSE: 0.00363\n",
      "\tFinished Predictions\n"
     ]
    }
   ],
   "source": [
    "epochs = 10 # epoch (pelatihan) yang digunakan adalah 10\n",
    "valid_summary = 1 # Interval you make test predictions\n",
    "\n",
    "n_predict_once = 50 \n",
    "\n",
    "train_seq_length = train_data.size # panjang data training\n",
    "\n",
    "train_mse_ot = [] # Akumulasi loss training\n",
    "test_mse_ot = [] # Akumulasi loss testing\n",
    "predictions_over_time = [] # Akumulasi prediksi\n",
    "\n",
    "session = tf.InteractiveSession()\n",
    "\n",
    "tf.global_variables_initializer().run()\n",
    "\n",
    "loss_nondecrease_count = 0\n",
    "loss_nondecrease_threshold = 2 \n",
    "\n",
    "print('inisialisasi')\n",
    "average_loss = 0\n",
    "\n",
    "# mendefinisikan datagenerator\n",
    "data_gen = DataGeneratorSeq(train_data,batch_size,num_unrollings)\n",
    "\n",
    "x_axis_seq = []\n",
    "\n",
    "# memulai training\n",
    "test_points_seq = np.arange(11000,12000,50).tolist()\n",
    "\n",
    "for ep in range(epochs):       \n",
    "\n",
    "    # training\n",
    "    for step in range(train_seq_length//batch_size):\n",
    "\n",
    "        u_data, u_labels = data_gen.unroll_batches()\n",
    "\n",
    "        feed_dict = {}\n",
    "        for ui,(dat,lbl) in enumerate(zip(u_data,u_labels)):            \n",
    "            feed_dict[train_inputs[ui]] = dat.reshape(-1,1)\n",
    "            feed_dict[train_outputs[ui]] = lbl.reshape(-1,1)\n",
    "\n",
    "        feed_dict.update({tf_learning_rate: 0.0001, tf_min_learning_rate:0.000001})\n",
    "\n",
    "        _, l = session.run([optimizer, loss], feed_dict=feed_dict)\n",
    "\n",
    "        average_loss += l\n",
    "\n",
    "    # validasi\n",
    "    if (ep+1) % valid_summary == 0:\n",
    "\n",
    "      average_loss = average_loss/(valid_summary*(train_seq_length//batch_size))\n",
    "\n",
    "      # loss rata-rata\n",
    "      if (ep+1)%valid_summary==0:\n",
    "        print('Average loss at step %d: %f' % (ep+1, average_loss))\n",
    "\n",
    "      train_mse_ot.append(average_loss)\n",
    "\n",
    "      average_loss = 0 \n",
    "\n",
    "      predictions_seq = []\n",
    "\n",
    "      mse_test_loss_seq = []\n",
    "\n",
    "      # update state dan melakukan prediksi\n",
    "      for w_i in test_points_seq:\n",
    "        mse_test_loss = 0.0\n",
    "        our_predictions = []\n",
    "\n",
    "        if (ep+1)-valid_summary==0:\n",
    "          \n",
    "          x_axis=[]\n",
    "\n",
    "        for tr_i in range(w_i-num_unrollings+1,w_i-1):\n",
    "            current_price = all_mid_data[tr_i]\n",
    "            feed_dict[sample_inputs] = np.array(current_price).reshape(1,1)    \n",
    "            _ = session.run(sample_prediction,feed_dict=feed_dict)\n",
    "\n",
    "        feed_dict = {}\n",
    "\n",
    "        current_price = all_mid_data[w_i-1]\n",
    "\n",
    "        feed_dict[sample_inputs] = np.array(current_price).reshape(1,1)\n",
    "\n",
    "        # membuat prediksi\n",
    "        # prediksi sebelumnya untuk dijadikan input\n",
    "        for pred_i in range(n_predict_once):\n",
    "\n",
    "          pred = session.run(sample_prediction,feed_dict=feed_dict)\n",
    "\n",
    "          our_predictions.append(np.asscalar(pred))\n",
    "\n",
    "          feed_dict[sample_inputs] = np.asarray(pred).reshape(-1,1)\n",
    "\n",
    "          if (ep+1)-valid_summary==0:\n",
    "           \n",
    "            x_axis.append(w_i+pred_i)\n",
    "\n",
    "          mse_test_loss += 0.5*(pred-all_mid_data[w_i+pred_i])**2\n",
    "\n",
    "        session.run(reset_sample_states)\n",
    "\n",
    "        predictions_seq.append(np.array(our_predictions))\n",
    "\n",
    "        mse_test_loss /= n_predict_once\n",
    "        mse_test_loss_seq.append(mse_test_loss)\n",
    "\n",
    "        if (ep+1)-valid_summary==0:\n",
    "          x_axis_seq.append(x_axis)\n",
    "\n",
    "      current_test_mse = np.mean(mse_test_loss_seq)\n",
    "\n",
    "      \n",
    "      if len(test_mse_ot)>0 and current_test_mse > min(test_mse_ot):\n",
    "          loss_nondecrease_count += 1\n",
    "      else:\n",
    "          loss_nondecrease_count = 0\n",
    "\n",
    "      if loss_nondecrease_count > loss_nondecrease_threshold :\n",
    "            session.run(inc_gstep)\n",
    "            loss_nondecrease_count = 0\n",
    "            print('\\tDecreasing learning rate by 0.5')\n",
    "\n",
    "      test_mse_ot.append(current_test_mse)\n",
    "      print('\\tTest MSE: %.5f'%np.mean(mse_test_loss_seq))\n",
    "      predictions_over_time.append(predictions_seq)\n",
    "      print('\\tFinished Predictions')"
   ]
  },
  {
   "cell_type": "markdown",
   "metadata": {
    "pycharm": {
     "name": "#%% md\n"
    }
   },
   "source": [
    "## 13. Visualisasi Prediksi "
   ]
  },
  {
   "cell_type": "code",
   "execution_count": null,
   "outputs": [],
   "source": [
    "best_prediction_epoch = 9 # replace this with the epoch that you got the best results when running the plotting code\n",
    "\n",
    "plt.figure(figsize = (18,18))\n",
    "plt.subplot(2,1,1)\n",
    "plt.plot(range(df.shape[0]),all_mid_data,color='b')\n",
    "\n",
    "# Plot prediksi \n",
    "# Plot older predictions with low alpha and newer predictions with high alpha\n",
    "start_alpha = 0.25\n",
    "alpha  = np.arange(start_alpha,1.1,(1.0-start_alpha)/len(predictions_over_time[::3]))\n",
    "for p_i,p in enumerate(predictions_over_time[::3]):\n",
    "    for xval,yval in zip(x_axis_seq,p):\n",
    "        plt.plot(xval,yval,color='r',alpha=alpha[p_i])\n",
    "\n",
    "plt.title('Evolution of Test Predictions Over Time',fontsize=18)\n",
    "plt.xlabel('Date',fontsize=18)\n",
    "plt.ylabel('Mid Price',fontsize=18)\n",
    "plt.xlim(11000,12500)\n",
    "\n",
    "plt.subplot(2,1,2)\n",
    "\n",
    "plt.plot(range(df.shape[0]),all_mid_data,color='b')\n",
    "for xval,yval in zip(x_axis_seq,predictions_over_time[best_prediction_epoch]):\n",
    "    plt.plot(xval,yval,color='r')\n",
    "\n",
    "plt.title('Best Test Predictions Over Time',fontsize=18)\n",
    "plt.xlabel('Date',fontsize=18)\n",
    "plt.ylabel('Mid Price',fontsize=18)\n",
    "plt.xlim(11000,12500)\n",
    "plt.show()"
   ],
   "metadata": {
    "collapsed": false,
    "pycharm": {
     "name": "#%%\n"
    }
   }
  },
  {
   "cell_type": "markdown",
   "source": [
    "#### pada model diatas dilakukan epoch (training) sebanyak 10 kali, hasil yang didapat adalah pada epoch 10 MSE bernilai 0.00239 dan dan average loss sebesar 0.055231 yang artinya model tersebut sudah bagus. pada grafik didapatkan prediksi (garis merah) mendekati/menyerupai true data (garis biru) artinya model prediksi sudah mendekati data sebenarnya.  namun perlu dilakukan lebih banyak jumlah epoch (training) yang nantinya diharapkan model dapat memprediksi saham HP dengan MSE terkecil.\n"
   ],
   "metadata": {
    "collapsed": false
   }
  },
  {
   "cell_type": "code",
   "execution_count": null,
   "outputs": [],
   "source": [],
   "metadata": {
    "collapsed": false,
    "pycharm": {
     "name": "#%%\n"
    }
   }
  }
 ],
 "metadata": {
  "kernelspec": {
   "display_name": "Python 3",
   "language": "python",
   "name": "python3"
  },
  "language_info": {
   "codemirror_mode": {
    "name": "ipython",
    "version": 3
   },
   "file_extension": ".py",
   "mimetype": "text/x-python",
   "name": "python",
   "nbconvert_exporter": "python",
   "pygments_lexer": "ipython3",
   "version": "3.7.6"
  },
  "pycharm": {
   "stem_cell": {
    "cell_type": "raw",
    "source": [],
    "metadata": {
     "collapsed": false
    }
   }
  }
 },
 "nbformat": 4,
 "nbformat_minor": 2
}